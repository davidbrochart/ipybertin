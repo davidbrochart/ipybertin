{
 "cells": [
  {
   "cell_type": "code",
   "execution_count": null,
   "id": "6812ab6c-247e-45fe-9f51-da679c68cb54",
   "metadata": {},
   "outputs": [],
   "source": [
    "import csv\n",
    "import json\n",
    "from ipybertin import Map\n",
    "from ipywidgets import IntSlider\n",
    "import requests"
   ]
  },
  {
   "cell_type": "code",
   "execution_count": null,
   "id": "b16c30d9-19df-4e61-b9ae-e88116d5377e",
   "metadata": {},
   "outputs": [],
   "source": [
    "r = requests.get(\"https://raw.githubusercontent.com/neocarto/bertin/main/data/world.geojson\")\n",
    "world = r.content.decode(\"utf8\")"
   ]
  },
  {
   "cell_type": "code",
   "execution_count": null,
   "id": "8ec79547-5b3c-460a-9f5c-d6ad0d04e591",
   "metadata": {},
   "outputs": [],
   "source": [
    "r = requests.get(\"https://raw.githubusercontent.com/neocarto/bertin/main/data/data.csv\")\n",
    "reader = csv.DictReader(r.content.decode(\"utf-8\").splitlines())\n",
    "data = json.dumps(list(reader))"
   ]
  },
  {
   "cell_type": "code",
   "execution_count": null,
   "id": "d76255b6-38f3-4bf2-9ab2-06515eb2faba",
   "metadata": {},
   "outputs": [],
   "source": [
    "def get_options(nbreaks):\n",
    "    return {\n",
    "        \"params\": {\"projection\": \"d3-geo-projection.geoEckert3()\"},\n",
    "        \"layers\": [\n",
    "            {\n",
    "                \"type\": \"layer\",\n",
    "                \"geojson\": f'bertin.merge({world}, \"ISO3\", {data}, \"id\")',\n",
    "                \"fill\": {\n",
    "                    \"type\": \"choro\",\n",
    "                    \"values\": \"gdppc\",\n",
    "                    \"nbreaks\": nbreaks,\n",
    "                    \"method\": \"quantile\",\n",
    "                    \"colors\": \"RdYlGn\",\n",
    "                    \"leg_round\": -3,\n",
    "                    \"leg_title\": \"GDP per inh\\n(in $)\",\n",
    "                    \"leg_x\": 100,\n",
    "                    \"leg_y\": 200,\n",
    "                },\n",
    "                \"tooltip\": [\"$name\", \"$gdppc\", \"(current US$)\"],\n",
    "            },\n",
    "            {\"type\": \"graticule\"},\n",
    "            {\"type\": \"outline\"},\n",
    "        ]\n",
    "    }\n",
    "\n",
    "m = Map(options=get_options(nbreaks=7))"
   ]
  },
  {
   "cell_type": "code",
   "execution_count": null,
   "id": "5348a9be-10b5-4149-b150-44b794ac7282",
   "metadata": {},
   "outputs": [],
   "source": [
    "nbreaks = IntSlider(value=7, min=3, max=9)\n",
    "\n",
    "def on_value_change(change):\n",
    "    m.options =get_options(nbreaks=change[\"new\"])\n",
    "    \n",
    "nbreaks.observe(on_value_change, names='value')"
   ]
  },
  {
   "cell_type": "code",
   "execution_count": null,
   "id": "8074fb45-63fb-4816-8b58-dcd3123c174d",
   "metadata": {},
   "outputs": [],
   "source": [
    "m"
   ]
  },
  {
   "cell_type": "code",
   "execution_count": null,
   "id": "4b948d52-2656-443a-a3e7-3b9bccbf73e9",
   "metadata": {},
   "outputs": [],
   "source": [
    "nbreaks"
   ]
  }
 ],
 "metadata": {
  "kernelspec": {
   "display_name": "Python 3 (ipykernel)",
   "language": "python",
   "name": "python3"
  },
  "language_info": {
   "codemirror_mode": {
    "name": "ipython",
    "version": 3
   },
   "file_extension": ".py",
   "mimetype": "text/x-python",
   "name": "python",
   "nbconvert_exporter": "python",
   "pygments_lexer": "ipython3",
   "version": "3.10.5"
  }
 },
 "nbformat": 4,
 "nbformat_minor": 5
}
