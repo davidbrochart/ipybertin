{
 "cells": [
  {
   "cell_type": "code",
   "execution_count": null,
   "id": "5f6932da-7536-47e8-9a48-eb6634559db7",
   "metadata": {},
   "outputs": [],
   "source": [
    "import json\n",
    "from ipybertin import Map\n",
    "from ipywidgets import IntSlider"
   ]
  },
  {
   "cell_type": "code",
   "execution_count": null,
   "id": "dd3a23ee-a19b-4215-8d7a-1bbd84ad5688",
   "metadata": {},
   "outputs": [],
   "source": [
    "with open(\"data/arrondissements.geojson\") as f:\n",
    "    arrondissements = f.read()"
   ]
  },
  {
   "cell_type": "code",
   "execution_count": null,
   "id": "d83c9fda-f855-47ca-8326-a66a57024024",
   "metadata": {},
   "outputs": [],
   "source": [
    "with open(\"data/fontaines-a-boire.geojson\") as f:\n",
    "    data = f.read()"
   ]
  },
  {
   "cell_type": "code",
   "execution_count": null,
   "id": "61c1808d-2be0-46e4-a262-d688716a5bc7",
   "metadata": {},
   "outputs": [],
   "source": [
    "features = [feature for feature in json.loads(data)[\"features\"] if \"PARIS\" in feature[\"properties\"][\"commune\"]]"
   ]
  },
  {
   "cell_type": "code",
   "execution_count": null,
   "id": "d6f8cddb-18f8-4fd0-8340-6cd622785105",
   "metadata": {},
   "outputs": [],
   "source": [
    "water = json.dumps({\n",
    "    \"type\": \"FeatureCollection\",\n",
    "    \"features\": features\n",
    "})"
   ]
  },
  {
   "cell_type": "code",
   "execution_count": null,
   "id": "29abf5e3-6127-40af-8ab6-0ccaf623b00f",
   "metadata": {},
   "outputs": [],
   "source": [
    "def get_options(size):\n",
    "    return {\n",
    "      \"params\": {\n",
    "        \"projection\": \"d3-geo.geoConicConformal().center([2.454071, 46.279229])\",\n",
    "        \"background\": \"#dbd1ca\",\n",
    "        \"margin\": 20,\n",
    "        \"extent\": arrondissements\n",
    "      },\n",
    "      \"layers\": [\n",
    "        {\n",
    "          \"type\": \"header\",\n",
    "          \"text\": \"Location of drinking fountains in Paris\",\n",
    "          \"background\": \"#1f5784\",\n",
    "          \"fill\": \"white\",\n",
    "          \"fontSize\": 30,\n",
    "          \"anchor\": \"start\"\n",
    "        },\n",
    "        {\n",
    "          \"type\": \"footer\",\n",
    "          \"text\": \"Source: Paris Data, 2022\"\n",
    "        },\n",
    "        {\n",
    "          \"geojson\": water,\n",
    "          \"fill\": \"#1f5784\",\n",
    "          \"symbol_size\": size,\n",
    "          \"symbol\": \"star\",\n",
    "          \"symbol_shift\": 1.5,\n",
    "          \"tooltip\": [\"$type_objet\", \"$voie\"],\n",
    "          \"leg_text\": \"drinking fountains\",\n",
    "          \"leg_x\": 840,\n",
    "          \"leg_y\": 300\n",
    "        },\n",
    "        {\n",
    "          \"type\": \"layer\",\n",
    "          \"geojson\": arrondissements,\n",
    "          \"fill\": \"#A5D1EC\",\n",
    "          \"stroke\": \"white\"\n",
    "        },\n",
    "        {\n",
    "          \"type\": \"scalebar\"\n",
    "        },\n",
    "        {\n",
    "          \"type\": \"shadow\",\n",
    "          \"geojson\": arrondissements\n",
    "        }\n",
    "      ]\n",
    "    }"
   ]
  },
  {
   "cell_type": "code",
   "execution_count": null,
   "id": "31ade57d-653d-49f6-b650-31296e6bee3d",
   "metadata": {},
   "outputs": [],
   "source": [
    "m = Map(options=get_options(70))"
   ]
  },
  {
   "cell_type": "code",
   "execution_count": null,
   "id": "37f9492f-f614-4b61-a01b-dba51b1fcc99",
   "metadata": {},
   "outputs": [],
   "source": [
    "size = IntSlider(value=70, min=10, max=200)\n",
    "\n",
    "def on_value_change(change):\n",
    "    m.options =get_options(size=change[\"new\"])\n",
    "    \n",
    "size.observe(on_value_change, names='value')"
   ]
  },
  {
   "cell_type": "code",
   "execution_count": null,
   "id": "c24adc67-b9ee-4f98-8ddc-37db1b46b2bf",
   "metadata": {},
   "outputs": [],
   "source": [
    "m"
   ]
  },
  {
   "cell_type": "code",
   "execution_count": null,
   "id": "6ae219df-7480-4d8e-89b2-0c34a452ade2",
   "metadata": {},
   "outputs": [],
   "source": [
    "size"
   ]
  }
 ],
 "metadata": {
  "kernelspec": {
   "display_name": "Python 3 (ipykernel)",
   "language": "python",
   "name": "python3"
  },
  "language_info": {
   "codemirror_mode": {
    "name": "ipython",
    "version": 3
   },
   "file_extension": ".py",
   "mimetype": "text/x-python",
   "name": "python",
   "nbconvert_exporter": "python",
   "pygments_lexer": "ipython3",
   "version": "3.10.5"
  }
 },
 "nbformat": 4,
 "nbformat_minor": 5
}
